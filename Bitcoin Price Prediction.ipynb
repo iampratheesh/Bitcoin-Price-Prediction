{
 "cells": [
  {
   "cell_type": "markdown",
   "metadata": {},
   "source": [
    "# 1. Business Problem\n",
    "\n",
    "## 1.1 Problem Statement\n",
    "A cryptocurrency investment firm has hired us to predict the near future price of Bitcoin.\n",
    "* They currently have data for select bitcoin exchanges, with minute to minute updates of OHLC (Open, High, Low, Close), Volume in BTC and indicated currency, and weighted bitcoin price.\n",
    "* The data was collected for the time period of Jan 2012 to March 2018\n",
    "* Our task is to build a price prediction model using this data.\n",
    "* If we can build a model to predict future prices with an average error of under US Dollars 100, then our client will be very satisfied with the our resultant model.\n",
    "\n",
    "## 1.2 Business Objectives and Constraints\n",
    "* Deliverable: Trained model file\n",
    "* Win condition: Avg. prediction error < \\$100\n",
    "* Model Interpretability will be useful\n",
    "* No latency requirement"
   ]
  },
  {
   "cell_type": "markdown",
   "metadata": {},
   "source": [
    "# 2. Machine Learning Problem\n",
    "## 2.1 Data Overview\n",
    "\n",
    "For this project:\n",
    "* The dataset has 3273377 observations with minute by minute updates from Jan 2012 to March 2018.\n",
    "* Refer this link to download the dataset:\n",
    "https://www.kaggle.com/mczielinski/bitcoin-historical-data\n",
    "\n",
    "#### Target Variable\n",
    "* 'pred_weight' - Weight of BTC\n",
    "\n",
    "#### Features of the data:\n",
    "\n",
    "* Open - Opening price of BTC.\n",
    "* High - Highest price of BTC during that time period.\n",
    "* Close - Closing price of BTC.\n",
    "* Low - Lowest price of BTC during that time period.\n",
    "* Volume_(BTC): Amount of Bitcoin traded during that time period in BTC value.\n",
    "* Volume_(USD): Amount of Bitcoin traded during that time period in US Dollars.\n",
    "* Weighted_Price: Value of 1 Bitcoin in US Dollars.\n",
    "\n",
    "## 2.2 Mapping business problem to ML problem\n",
    "### 2.2.1 Type of Machine Learning Problem\n",
    "It is a regression problem, where given the above set of features, we need to predict the weighted price of BTC after 10 mins.\n",
    "\n",
    "### 2.2.2 Performance Metric (KPI)\n",
    "**Since it is a regression problem, we will use the following regression metrics:**\n",
    "#### 2.2.2.1 Root Mean Squared Error (RMSE)"
   ]
  },
  {
   "cell_type": "markdown",
   "metadata": {},
   "source": [
    "![title](Images/rmse.gif)"
   ]
  },
  {
   "cell_type": "markdown",
   "metadata": {},
   "source": [
    "#### 2.2.2.2 R-squared\n",
    "![title](Images/r_squared.png)\n",
    "\n",
    "Just remember the value of R suared must be at least greater than 0 and 1 in the best case"
   ]
  },
  {
   "cell_type": "markdown",
   "metadata": {},
   "source": [
    "#### 2.2.2.3 Mean Absolute Error (MAE):\n",
    "![title](Images/mae.png)\n",
    "\n",
    "* Remember, our win-condition for this project is predicting within \\$100 of true transaction prices, on average.\n",
    "* Mean absolute error (or MAE) is the average absolute difference between predicted and actual values for our target variable. That exactly aligns with the terms of our win condition!\n",
    "* So we're aiming to get MAE below 100"
   ]
  },
  {
   "cell_type": "markdown",
   "metadata": {},
   "source": [
    "## 2.3 Train-Test Splits\n",
    "**80-20**"
   ]
  },
  {
   "cell_type": "markdown",
   "metadata": {},
   "source": [
    "# 3. Exploratory Data Analysis"
   ]
  },
  {
   "cell_type": "markdown",
   "metadata": {},
   "source": [
    "#### Import the libraries"
   ]
  },
  {
   "cell_type": "code",
   "execution_count": 3,
   "metadata": {
    "collapsed": true
   },
   "outputs": [],
   "source": [
    "# NumPy for numerical computing\n",
    "import numpy as np\n",
    "\n",
    "# Pandas for DataFrames\n",
    "import pandas as pd\n",
    "\n",
    "# Matplotlib for visualization\n",
    "from matplotlib import pyplot as plt\n",
    "# display plots in the notebook\n",
    "%matplotlib inline\n",
    "# import color maps\n",
    "from matplotlib.colors import ListedColormap\n",
    "\n",
    "# Seaborn for easier visualization\n",
    "import seaborn as sns\n",
    "\n",
    "from math import sqrt\n",
    "\n",
    "# Ignore Warnings\n",
    "import warnings\n",
    "warnings.filterwarnings(\"ignore\")\n",
    "\n",
    "# Function for splitting training and test set\n",
    "from sklearn.model_selection import train_test_split\n",
    "\n",
    "# Libraries to perform hyperparameter tuning\n",
    "from sklearn.model_selection import GridSearchCV\n",
    "from sklearn.model_selection import RandomizedSearchCV\n",
    "\n",
    "# Import classes for ML Models\n",
    "from sklearn.linear_model import Ridge  ## Linear Regression + L2 regularization\n",
    "from sklearn.svm import SVR ## Support Vector Regressor\n",
    "from sklearn.ensemble import RandomForestRegressor #Random Forest\n",
    "from sklearn.neighbors import KNeighborsRegressor #KNN Regressor\n",
    "from sklearn import linear_model   #Lasso Regressor\n",
    "from sklearn.tree import DecisionTreeRegressor #Decision Tree Regressor\n",
    "from sklearn.model_selection import cross_val_score  #Cross - validation \n",
    "\n",
    "\n",
    "# Evaluation Metrics\n",
    "from sklearn.metrics import mean_squared_error as mse\n",
    "from sklearn.metrics import r2_score\n",
    "from sklearn.metrics import mean_absolute_error as mae\n",
    "\n",
    "# To save the final model on disk\n",
    "from sklearn.externals import joblib  ## Reference http://scikit-learn.org/stable/modules/model_persistence.html"
   ]
  },
  {
   "cell_type": "markdown",
   "metadata": {},
   "source": [
    "## 3.1 Load real estate data from CSV"
   ]
  },
  {
   "cell_type": "code",
   "execution_count": 24,
   "metadata": {
    "collapsed": true
   },
   "outputs": [],
   "source": [
    "df = pd.read_csv('bitcoin_data.csv')"
   ]
  },
  {
   "cell_type": "code",
   "execution_count": 25,
   "metadata": {},
   "outputs": [
    {
     "data": {
      "text/html": [
       "<div>\n",
       "<style scoped>\n",
       "    .dataframe tbody tr th:only-of-type {\n",
       "        vertical-align: middle;\n",
       "    }\n",
       "\n",
       "    .dataframe tbody tr th {\n",
       "        vertical-align: top;\n",
       "    }\n",
       "\n",
       "    .dataframe thead th {\n",
       "        text-align: right;\n",
       "    }\n",
       "</style>\n",
       "<table border=\"1\" class=\"dataframe\">\n",
       "  <thead>\n",
       "    <tr style=\"text-align: right;\">\n",
       "      <th></th>\n",
       "      <th>Timestamp</th>\n",
       "      <th>Open</th>\n",
       "      <th>High</th>\n",
       "      <th>Low</th>\n",
       "      <th>Close</th>\n",
       "      <th>Volume_(BTC)</th>\n",
       "      <th>Volume_(Currency)</th>\n",
       "      <th>Weighted_Price</th>\n",
       "    </tr>\n",
       "  </thead>\n",
       "  <tbody>\n",
       "    <tr>\n",
       "      <th>0</th>\n",
       "      <td>1325317920</td>\n",
       "      <td>4.39</td>\n",
       "      <td>4.39</td>\n",
       "      <td>4.39</td>\n",
       "      <td>4.39</td>\n",
       "      <td>0.455581</td>\n",
       "      <td>2.0</td>\n",
       "      <td>4.39</td>\n",
       "    </tr>\n",
       "    <tr>\n",
       "      <th>1</th>\n",
       "      <td>1325317980</td>\n",
       "      <td>4.39</td>\n",
       "      <td>4.39</td>\n",
       "      <td>4.39</td>\n",
       "      <td>4.39</td>\n",
       "      <td>0.455581</td>\n",
       "      <td>2.0</td>\n",
       "      <td>4.39</td>\n",
       "    </tr>\n",
       "    <tr>\n",
       "      <th>2</th>\n",
       "      <td>1325318040</td>\n",
       "      <td>4.39</td>\n",
       "      <td>4.39</td>\n",
       "      <td>4.39</td>\n",
       "      <td>4.39</td>\n",
       "      <td>0.455581</td>\n",
       "      <td>2.0</td>\n",
       "      <td>4.39</td>\n",
       "    </tr>\n",
       "    <tr>\n",
       "      <th>3</th>\n",
       "      <td>1325318100</td>\n",
       "      <td>4.39</td>\n",
       "      <td>4.39</td>\n",
       "      <td>4.39</td>\n",
       "      <td>4.39</td>\n",
       "      <td>0.455581</td>\n",
       "      <td>2.0</td>\n",
       "      <td>4.39</td>\n",
       "    </tr>\n",
       "    <tr>\n",
       "      <th>4</th>\n",
       "      <td>1325318160</td>\n",
       "      <td>4.39</td>\n",
       "      <td>4.39</td>\n",
       "      <td>4.39</td>\n",
       "      <td>4.39</td>\n",
       "      <td>0.455581</td>\n",
       "      <td>2.0</td>\n",
       "      <td>4.39</td>\n",
       "    </tr>\n",
       "  </tbody>\n",
       "</table>\n",
       "</div>"
      ],
      "text/plain": [
       "    Timestamp  Open  High   Low  Close  Volume_(BTC)  Volume_(Currency)  \\\n",
       "0  1325317920  4.39  4.39  4.39   4.39      0.455581                2.0   \n",
       "1  1325317980  4.39  4.39  4.39   4.39      0.455581                2.0   \n",
       "2  1325318040  4.39  4.39  4.39   4.39      0.455581                2.0   \n",
       "3  1325318100  4.39  4.39  4.39   4.39      0.455581                2.0   \n",
       "4  1325318160  4.39  4.39  4.39   4.39      0.455581                2.0   \n",
       "\n",
       "   Weighted_Price  \n",
       "0            4.39  \n",
       "1            4.39  \n",
       "2            4.39  \n",
       "3            4.39  \n",
       "4            4.39  "
      ]
     },
     "execution_count": 25,
     "metadata": {},
     "output_type": "execute_result"
    }
   ],
   "source": [
    "df.head()"
   ]
  },
  {
   "cell_type": "code",
   "execution_count": 26,
   "metadata": {},
   "outputs": [
    {
     "data": {
      "text/plain": [
       "Timestamp            0\n",
       "Open                 0\n",
       "High                 0\n",
       "Low                  0\n",
       "Close                0\n",
       "Volume_(BTC)         0\n",
       "Volume_(Currency)    0\n",
       "Weighted_Price       0\n",
       "dtype: int64"
      ]
     },
     "execution_count": 26,
     "metadata": {},
     "output_type": "execute_result"
    }
   ],
   "source": [
    "df.isnull().sum()"
   ]
  },
  {
   "cell_type": "code",
   "execution_count": 27,
   "metadata": {
    "scrolled": true
   },
   "outputs": [
    {
     "data": {
      "text/plain": [
       "(3273377, 8)"
      ]
     },
     "execution_count": 27,
     "metadata": {},
     "output_type": "execute_result"
    }
   ],
   "source": [
    "df.shape"
   ]
  },
  {
   "cell_type": "markdown",
   "metadata": {},
   "source": [
    "## 3.2 Converting Timestamp to Date"
   ]
  },
  {
   "cell_type": "code",
   "execution_count": 28,
   "metadata": {
    "collapsed": true
   },
   "outputs": [],
   "source": [
    "df['Date'] = pd.to_datetime(df.Timestamp, unit = 's')"
   ]
  },
  {
   "cell_type": "code",
   "execution_count": 33,
   "metadata": {
    "collapsed": true
   },
   "outputs": [],
   "source": [
    "df = df.set_index('Date')"
   ]
  },
  {
   "cell_type": "code",
   "execution_count": 34,
   "metadata": {},
   "outputs": [
    {
     "data": {
      "text/html": [
       "<div>\n",
       "<style scoped>\n",
       "    .dataframe tbody tr th:only-of-type {\n",
       "        vertical-align: middle;\n",
       "    }\n",
       "\n",
       "    .dataframe tbody tr th {\n",
       "        vertical-align: top;\n",
       "    }\n",
       "\n",
       "    .dataframe thead th {\n",
       "        text-align: right;\n",
       "    }\n",
       "</style>\n",
       "<table border=\"1\" class=\"dataframe\">\n",
       "  <thead>\n",
       "    <tr style=\"text-align: right;\">\n",
       "      <th></th>\n",
       "      <th>Timestamp</th>\n",
       "      <th>Open</th>\n",
       "      <th>High</th>\n",
       "      <th>Low</th>\n",
       "      <th>Close</th>\n",
       "      <th>Volume_(BTC)</th>\n",
       "      <th>Volume_(Currency)</th>\n",
       "      <th>Weighted_Price</th>\n",
       "    </tr>\n",
       "    <tr>\n",
       "      <th>Date</th>\n",
       "      <th></th>\n",
       "      <th></th>\n",
       "      <th></th>\n",
       "      <th></th>\n",
       "      <th></th>\n",
       "      <th></th>\n",
       "      <th></th>\n",
       "      <th></th>\n",
       "    </tr>\n",
       "  </thead>\n",
       "  <tbody>\n",
       "    <tr>\n",
       "      <th>2011-12-31 07:52:00</th>\n",
       "      <td>1325317920</td>\n",
       "      <td>4.39</td>\n",
       "      <td>4.39</td>\n",
       "      <td>4.39</td>\n",
       "      <td>4.39</td>\n",
       "      <td>0.455581</td>\n",
       "      <td>2.0</td>\n",
       "      <td>4.39</td>\n",
       "    </tr>\n",
       "    <tr>\n",
       "      <th>2011-12-31 07:53:00</th>\n",
       "      <td>1325317980</td>\n",
       "      <td>4.39</td>\n",
       "      <td>4.39</td>\n",
       "      <td>4.39</td>\n",
       "      <td>4.39</td>\n",
       "      <td>0.455581</td>\n",
       "      <td>2.0</td>\n",
       "      <td>4.39</td>\n",
       "    </tr>\n",
       "    <tr>\n",
       "      <th>2011-12-31 07:54:00</th>\n",
       "      <td>1325318040</td>\n",
       "      <td>4.39</td>\n",
       "      <td>4.39</td>\n",
       "      <td>4.39</td>\n",
       "      <td>4.39</td>\n",
       "      <td>0.455581</td>\n",
       "      <td>2.0</td>\n",
       "      <td>4.39</td>\n",
       "    </tr>\n",
       "    <tr>\n",
       "      <th>2011-12-31 07:55:00</th>\n",
       "      <td>1325318100</td>\n",
       "      <td>4.39</td>\n",
       "      <td>4.39</td>\n",
       "      <td>4.39</td>\n",
       "      <td>4.39</td>\n",
       "      <td>0.455581</td>\n",
       "      <td>2.0</td>\n",
       "      <td>4.39</td>\n",
       "    </tr>\n",
       "    <tr>\n",
       "      <th>2011-12-31 07:56:00</th>\n",
       "      <td>1325318160</td>\n",
       "      <td>4.39</td>\n",
       "      <td>4.39</td>\n",
       "      <td>4.39</td>\n",
       "      <td>4.39</td>\n",
       "      <td>0.455581</td>\n",
       "      <td>2.0</td>\n",
       "      <td>4.39</td>\n",
       "    </tr>\n",
       "  </tbody>\n",
       "</table>\n",
       "</div>"
      ],
      "text/plain": [
       "                      Timestamp  Open  High   Low  Close  Volume_(BTC)  \\\n",
       "Date                                                                     \n",
       "2011-12-31 07:52:00  1325317920  4.39  4.39  4.39   4.39      0.455581   \n",
       "2011-12-31 07:53:00  1325317980  4.39  4.39  4.39   4.39      0.455581   \n",
       "2011-12-31 07:54:00  1325318040  4.39  4.39  4.39   4.39      0.455581   \n",
       "2011-12-31 07:55:00  1325318100  4.39  4.39  4.39   4.39      0.455581   \n",
       "2011-12-31 07:56:00  1325318160  4.39  4.39  4.39   4.39      0.455581   \n",
       "\n",
       "                     Volume_(Currency)  Weighted_Price  \n",
       "Date                                                    \n",
       "2011-12-31 07:52:00                2.0            4.39  \n",
       "2011-12-31 07:53:00                2.0            4.39  \n",
       "2011-12-31 07:54:00                2.0            4.39  \n",
       "2011-12-31 07:55:00                2.0            4.39  \n",
       "2011-12-31 07:56:00                2.0            4.39  "
      ]
     },
     "execution_count": 34,
     "metadata": {},
     "output_type": "execute_result"
    }
   ],
   "source": [
    "df.head()"
   ]
  },
  {
   "cell_type": "code",
   "execution_count": 35,
   "metadata": {
    "scrolled": true
   },
   "outputs": [
    {
     "data": {
      "text/html": [
       "<div>\n",
       "<style scoped>\n",
       "    .dataframe tbody tr th:only-of-type {\n",
       "        vertical-align: middle;\n",
       "    }\n",
       "\n",
       "    .dataframe tbody tr th {\n",
       "        vertical-align: top;\n",
       "    }\n",
       "\n",
       "    .dataframe thead th {\n",
       "        text-align: right;\n",
       "    }\n",
       "</style>\n",
       "<table border=\"1\" class=\"dataframe\">\n",
       "  <thead>\n",
       "    <tr style=\"text-align: right;\">\n",
       "      <th></th>\n",
       "      <th>Timestamp</th>\n",
       "      <th>Open</th>\n",
       "      <th>High</th>\n",
       "      <th>Low</th>\n",
       "      <th>Close</th>\n",
       "      <th>Volume_(BTC)</th>\n",
       "      <th>Volume_(Currency)</th>\n",
       "      <th>Weighted_Price</th>\n",
       "    </tr>\n",
       "  </thead>\n",
       "  <tbody>\n",
       "    <tr>\n",
       "      <th>count</th>\n",
       "      <td>3.273377e+06</td>\n",
       "      <td>3.273377e+06</td>\n",
       "      <td>3.273377e+06</td>\n",
       "      <td>3.273377e+06</td>\n",
       "      <td>3.273377e+06</td>\n",
       "      <td>3.273377e+06</td>\n",
       "      <td>3.273377e+06</td>\n",
       "      <td>3.273377e+06</td>\n",
       "    </tr>\n",
       "    <tr>\n",
       "      <th>mean</th>\n",
       "      <td>1.423719e+09</td>\n",
       "      <td>1.282265e+03</td>\n",
       "      <td>1.283527e+03</td>\n",
       "      <td>1.280822e+03</td>\n",
       "      <td>1.282248e+03</td>\n",
       "      <td>1.116149e+01</td>\n",
       "      <td>1.356582e+04</td>\n",
       "      <td>1.282163e+03</td>\n",
       "    </tr>\n",
       "    <tr>\n",
       "      <th>std</th>\n",
       "      <td>5.686463e+07</td>\n",
       "      <td>2.812084e+03</td>\n",
       "      <td>2.815636e+03</td>\n",
       "      <td>2.807936e+03</td>\n",
       "      <td>2.812042e+03</td>\n",
       "      <td>3.552989e+01</td>\n",
       "      <td>6.806235e+04</td>\n",
       "      <td>2.811795e+03</td>\n",
       "    </tr>\n",
       "    <tr>\n",
       "      <th>min</th>\n",
       "      <td>1.325318e+09</td>\n",
       "      <td>3.800000e+00</td>\n",
       "      <td>3.800000e+00</td>\n",
       "      <td>1.500000e+00</td>\n",
       "      <td>1.500000e+00</td>\n",
       "      <td>0.000000e+00</td>\n",
       "      <td>0.000000e+00</td>\n",
       "      <td>3.800000e+00</td>\n",
       "    </tr>\n",
       "    <tr>\n",
       "      <th>25%</th>\n",
       "      <td>1.374419e+09</td>\n",
       "      <td>1.178500e+02</td>\n",
       "      <td>1.179000e+02</td>\n",
       "      <td>1.177700e+02</td>\n",
       "      <td>1.178500e+02</td>\n",
       "      <td>4.703587e-01</td>\n",
       "      <td>7.120096e+01</td>\n",
       "      <td>1.178400e+02</td>\n",
       "    </tr>\n",
       "    <tr>\n",
       "      <th>50%</th>\n",
       "      <td>1.423908e+09</td>\n",
       "      <td>3.960100e+02</td>\n",
       "      <td>3.962900e+02</td>\n",
       "      <td>3.958200e+02</td>\n",
       "      <td>3.960000e+02</td>\n",
       "      <td>2.160980e+00</td>\n",
       "      <td>4.150598e+02</td>\n",
       "      <td>3.960014e+02</td>\n",
       "    </tr>\n",
       "    <tr>\n",
       "      <th>75%</th>\n",
       "      <td>1.473008e+09</td>\n",
       "      <td>7.211600e+02</td>\n",
       "      <td>7.219800e+02</td>\n",
       "      <td>7.205000e+02</td>\n",
       "      <td>7.210500e+02</td>\n",
       "      <td>9.000000e+00</td>\n",
       "      <td>3.371765e+03</td>\n",
       "      <td>7.211458e+02</td>\n",
       "    </tr>\n",
       "    <tr>\n",
       "      <th>max</th>\n",
       "      <td>1.522109e+09</td>\n",
       "      <td>1.966576e+04</td>\n",
       "      <td>1.966600e+04</td>\n",
       "      <td>1.964996e+04</td>\n",
       "      <td>1.966575e+04</td>\n",
       "      <td>5.853852e+03</td>\n",
       "      <td>5.483271e+06</td>\n",
       "      <td>1.966330e+04</td>\n",
       "    </tr>\n",
       "  </tbody>\n",
       "</table>\n",
       "</div>"
      ],
      "text/plain": [
       "          Timestamp          Open          High           Low         Close  \\\n",
       "count  3.273377e+06  3.273377e+06  3.273377e+06  3.273377e+06  3.273377e+06   \n",
       "mean   1.423719e+09  1.282265e+03  1.283527e+03  1.280822e+03  1.282248e+03   \n",
       "std    5.686463e+07  2.812084e+03  2.815636e+03  2.807936e+03  2.812042e+03   \n",
       "min    1.325318e+09  3.800000e+00  3.800000e+00  1.500000e+00  1.500000e+00   \n",
       "25%    1.374419e+09  1.178500e+02  1.179000e+02  1.177700e+02  1.178500e+02   \n",
       "50%    1.423908e+09  3.960100e+02  3.962900e+02  3.958200e+02  3.960000e+02   \n",
       "75%    1.473008e+09  7.211600e+02  7.219800e+02  7.205000e+02  7.210500e+02   \n",
       "max    1.522109e+09  1.966576e+04  1.966600e+04  1.964996e+04  1.966575e+04   \n",
       "\n",
       "       Volume_(BTC)  Volume_(Currency)  Weighted_Price  \n",
       "count  3.273377e+06       3.273377e+06    3.273377e+06  \n",
       "mean   1.116149e+01       1.356582e+04    1.282163e+03  \n",
       "std    3.552989e+01       6.806235e+04    2.811795e+03  \n",
       "min    0.000000e+00       0.000000e+00    3.800000e+00  \n",
       "25%    4.703587e-01       7.120096e+01    1.178400e+02  \n",
       "50%    2.160980e+00       4.150598e+02    3.960014e+02  \n",
       "75%    9.000000e+00       3.371765e+03    7.211458e+02  \n",
       "max    5.853852e+03       5.483271e+06    1.966330e+04  "
      ]
     },
     "execution_count": 35,
     "metadata": {},
     "output_type": "execute_result"
    }
   ],
   "source": [
    "df.describe()"
   ]
  },
  {
   "cell_type": "markdown",
   "metadata": {},
   "source": [
    "## 3.3 Resampling the data.\n",
    "* Since the dataset contains value of Bitcoin at one minute intervals it wouldn't be efficient to predict the weighted price for the next minute.\n",
    "* Hence we will resample the data into 10 mins interval."
   ]
  },
  {
   "cell_type": "code",
   "execution_count": 37,
   "metadata": {
    "collapsed": true
   },
   "outputs": [],
   "source": [
    "#Resampling the data in 10 min intervals\n",
    "df = df.resample('10T').agg({'Open': 'mean', 'High': 'mean', \n",
    "    'Low': 'mean', 'Close': 'mean', 'Volume_(BTC)': 'sum',\n",
    "    'Volume_(Currency)': 'sum', 'Weighted_Price': 'mean', 'Timestamp': 'min'})  "
   ]
  },
  {
   "cell_type": "code",
   "execution_count": 38,
   "metadata": {
    "scrolled": true
   },
   "outputs": [
    {
     "data": {
      "text/plain": [
       "(327986, 8)"
      ]
     },
     "execution_count": 38,
     "metadata": {},
     "output_type": "execute_result"
    }
   ],
   "source": [
    "df.shape"
   ]
  },
  {
   "cell_type": "markdown",
   "metadata": {},
   "source": [
    "## 3.4 Creating Target Variable\n",
    "### We will now create a new column 'pred_weight' which will be our target variable.\n",
    "* This can be obtained by rolling the already available feature 'Weighted_Price'  one place above so that it will be like predicting the price of next 10th minute timeframe"
   ]
  },
  {
   "cell_type": "code",
   "execution_count": 39,
   "metadata": {
    "collapsed": true
   },
   "outputs": [],
   "source": [
    "df['pred_weight'] = np.roll(df['Weighted_Price'], -1)"
   ]
  },
  {
   "cell_type": "code",
   "execution_count": 41,
   "metadata": {},
   "outputs": [
    {
     "data": {
      "text/html": [
       "<div>\n",
       "<style scoped>\n",
       "    .dataframe tbody tr th:only-of-type {\n",
       "        vertical-align: middle;\n",
       "    }\n",
       "\n",
       "    .dataframe tbody tr th {\n",
       "        vertical-align: top;\n",
       "    }\n",
       "\n",
       "    .dataframe thead th {\n",
       "        text-align: right;\n",
       "    }\n",
       "</style>\n",
       "<table border=\"1\" class=\"dataframe\">\n",
       "  <thead>\n",
       "    <tr style=\"text-align: right;\">\n",
       "      <th></th>\n",
       "      <th>Open</th>\n",
       "      <th>High</th>\n",
       "      <th>Low</th>\n",
       "      <th>Close</th>\n",
       "      <th>Volume_(BTC)</th>\n",
       "      <th>Volume_(Currency)</th>\n",
       "      <th>Weighted_Price</th>\n",
       "      <th>Timestamp</th>\n",
       "      <th>pred_weight</th>\n",
       "    </tr>\n",
       "    <tr>\n",
       "      <th>Date</th>\n",
       "      <th></th>\n",
       "      <th></th>\n",
       "      <th></th>\n",
       "      <th></th>\n",
       "      <th></th>\n",
       "      <th></th>\n",
       "      <th></th>\n",
       "      <th></th>\n",
       "      <th></th>\n",
       "    </tr>\n",
       "  </thead>\n",
       "  <tbody>\n",
       "    <tr>\n",
       "      <th>2018-03-26 23:20:00</th>\n",
       "      <td>8216.419</td>\n",
       "      <td>8228.551</td>\n",
       "      <td>8207.362</td>\n",
       "      <td>8215.391</td>\n",
       "      <td>153.945083</td>\n",
       "      <td>1.267740e+06</td>\n",
       "      <td>8218.781100</td>\n",
       "      <td>1.522106e+09</td>\n",
       "      <td>8187.745762</td>\n",
       "    </tr>\n",
       "    <tr>\n",
       "      <th>2018-03-26 23:30:00</th>\n",
       "      <td>8189.055</td>\n",
       "      <td>8198.373</td>\n",
       "      <td>8179.008</td>\n",
       "      <td>8186.055</td>\n",
       "      <td>122.962332</td>\n",
       "      <td>1.004773e+06</td>\n",
       "      <td>8187.745762</td>\n",
       "      <td>1.522107e+09</td>\n",
       "      <td>8167.662603</td>\n",
       "    </tr>\n",
       "    <tr>\n",
       "      <th>2018-03-26 23:40:00</th>\n",
       "      <td>8168.010</td>\n",
       "      <td>8173.385</td>\n",
       "      <td>8163.228</td>\n",
       "      <td>8167.658</td>\n",
       "      <td>41.068976</td>\n",
       "      <td>3.355007e+05</td>\n",
       "      <td>8167.662603</td>\n",
       "      <td>1.522108e+09</td>\n",
       "      <td>8159.550796</td>\n",
       "    </tr>\n",
       "    <tr>\n",
       "      <th>2018-03-26 23:50:00</th>\n",
       "      <td>8160.630</td>\n",
       "      <td>8165.254</td>\n",
       "      <td>8153.448</td>\n",
       "      <td>8158.256</td>\n",
       "      <td>61.203973</td>\n",
       "      <td>4.984852e+05</td>\n",
       "      <td>8159.550796</td>\n",
       "      <td>1.522108e+09</td>\n",
       "      <td>8155.146220</td>\n",
       "    </tr>\n",
       "    <tr>\n",
       "      <th>2018-03-27 00:00:00</th>\n",
       "      <td>8152.260</td>\n",
       "      <td>8164.680</td>\n",
       "      <td>8151.370</td>\n",
       "      <td>8153.040</td>\n",
       "      <td>17.758130</td>\n",
       "      <td>1.448201e+05</td>\n",
       "      <td>8155.146220</td>\n",
       "      <td>1.522109e+09</td>\n",
       "      <td>4.390000</td>\n",
       "    </tr>\n",
       "  </tbody>\n",
       "</table>\n",
       "</div>"
      ],
      "text/plain": [
       "                         Open      High       Low     Close  Volume_(BTC)  \\\n",
       "Date                                                                        \n",
       "2018-03-26 23:20:00  8216.419  8228.551  8207.362  8215.391    153.945083   \n",
       "2018-03-26 23:30:00  8189.055  8198.373  8179.008  8186.055    122.962332   \n",
       "2018-03-26 23:40:00  8168.010  8173.385  8163.228  8167.658     41.068976   \n",
       "2018-03-26 23:50:00  8160.630  8165.254  8153.448  8158.256     61.203973   \n",
       "2018-03-27 00:00:00  8152.260  8164.680  8151.370  8153.040     17.758130   \n",
       "\n",
       "                     Volume_(Currency)  Weighted_Price     Timestamp  \\\n",
       "Date                                                                   \n",
       "2018-03-26 23:20:00       1.267740e+06     8218.781100  1.522106e+09   \n",
       "2018-03-26 23:30:00       1.004773e+06     8187.745762  1.522107e+09   \n",
       "2018-03-26 23:40:00       3.355007e+05     8167.662603  1.522108e+09   \n",
       "2018-03-26 23:50:00       4.984852e+05     8159.550796  1.522108e+09   \n",
       "2018-03-27 00:00:00       1.448201e+05     8155.146220  1.522109e+09   \n",
       "\n",
       "                     pred_weight  \n",
       "Date                              \n",
       "2018-03-26 23:20:00  8187.745762  \n",
       "2018-03-26 23:30:00  8167.662603  \n",
       "2018-03-26 23:40:00  8159.550796  \n",
       "2018-03-26 23:50:00  8155.146220  \n",
       "2018-03-27 00:00:00     4.390000  "
      ]
     },
     "execution_count": 41,
     "metadata": {},
     "output_type": "execute_result"
    }
   ],
   "source": [
    "df.tail()"
   ]
  },
  {
   "cell_type": "code",
   "execution_count": 42,
   "metadata": {},
   "outputs": [
    {
     "data": {
      "text/html": [
       "<div>\n",
       "<style scoped>\n",
       "    .dataframe tbody tr th:only-of-type {\n",
       "        vertical-align: middle;\n",
       "    }\n",
       "\n",
       "    .dataframe tbody tr th {\n",
       "        vertical-align: top;\n",
       "    }\n",
       "\n",
       "    .dataframe thead th {\n",
       "        text-align: right;\n",
       "    }\n",
       "</style>\n",
       "<table border=\"1\" class=\"dataframe\">\n",
       "  <thead>\n",
       "    <tr style=\"text-align: right;\">\n",
       "      <th></th>\n",
       "      <th>Open</th>\n",
       "      <th>High</th>\n",
       "      <th>Low</th>\n",
       "      <th>Close</th>\n",
       "      <th>Volume_(BTC)</th>\n",
       "      <th>Volume_(Currency)</th>\n",
       "      <th>Weighted_Price</th>\n",
       "      <th>Timestamp</th>\n",
       "      <th>pred_weight</th>\n",
       "    </tr>\n",
       "    <tr>\n",
       "      <th>Date</th>\n",
       "      <th></th>\n",
       "      <th></th>\n",
       "      <th></th>\n",
       "      <th></th>\n",
       "      <th></th>\n",
       "      <th></th>\n",
       "      <th></th>\n",
       "      <th></th>\n",
       "      <th></th>\n",
       "    </tr>\n",
       "  </thead>\n",
       "  <tbody>\n",
       "    <tr>\n",
       "      <th>2018-03-26 23:10:00</th>\n",
       "      <td>8190.726</td>\n",
       "      <td>8197.484</td>\n",
       "      <td>8187.408</td>\n",
       "      <td>8192.613</td>\n",
       "      <td>21.636469</td>\n",
       "      <td>1.772500e+05</td>\n",
       "      <td>8192.824829</td>\n",
       "      <td>1.522106e+09</td>\n",
       "      <td>8218.781100</td>\n",
       "    </tr>\n",
       "    <tr>\n",
       "      <th>2018-03-26 23:20:00</th>\n",
       "      <td>8216.419</td>\n",
       "      <td>8228.551</td>\n",
       "      <td>8207.362</td>\n",
       "      <td>8215.391</td>\n",
       "      <td>153.945083</td>\n",
       "      <td>1.267740e+06</td>\n",
       "      <td>8218.781100</td>\n",
       "      <td>1.522106e+09</td>\n",
       "      <td>8187.745762</td>\n",
       "    </tr>\n",
       "    <tr>\n",
       "      <th>2018-03-26 23:30:00</th>\n",
       "      <td>8189.055</td>\n",
       "      <td>8198.373</td>\n",
       "      <td>8179.008</td>\n",
       "      <td>8186.055</td>\n",
       "      <td>122.962332</td>\n",
       "      <td>1.004773e+06</td>\n",
       "      <td>8187.745762</td>\n",
       "      <td>1.522107e+09</td>\n",
       "      <td>8167.662603</td>\n",
       "    </tr>\n",
       "    <tr>\n",
       "      <th>2018-03-26 23:40:00</th>\n",
       "      <td>8168.010</td>\n",
       "      <td>8173.385</td>\n",
       "      <td>8163.228</td>\n",
       "      <td>8167.658</td>\n",
       "      <td>41.068976</td>\n",
       "      <td>3.355007e+05</td>\n",
       "      <td>8167.662603</td>\n",
       "      <td>1.522108e+09</td>\n",
       "      <td>8159.550796</td>\n",
       "    </tr>\n",
       "    <tr>\n",
       "      <th>2018-03-26 23:50:00</th>\n",
       "      <td>8160.630</td>\n",
       "      <td>8165.254</td>\n",
       "      <td>8153.448</td>\n",
       "      <td>8158.256</td>\n",
       "      <td>61.203973</td>\n",
       "      <td>4.984852e+05</td>\n",
       "      <td>8159.550796</td>\n",
       "      <td>1.522108e+09</td>\n",
       "      <td>8155.146220</td>\n",
       "    </tr>\n",
       "  </tbody>\n",
       "</table>\n",
       "</div>"
      ],
      "text/plain": [
       "                         Open      High       Low     Close  Volume_(BTC)  \\\n",
       "Date                                                                        \n",
       "2018-03-26 23:10:00  8190.726  8197.484  8187.408  8192.613     21.636469   \n",
       "2018-03-26 23:20:00  8216.419  8228.551  8207.362  8215.391    153.945083   \n",
       "2018-03-26 23:30:00  8189.055  8198.373  8179.008  8186.055    122.962332   \n",
       "2018-03-26 23:40:00  8168.010  8173.385  8163.228  8167.658     41.068976   \n",
       "2018-03-26 23:50:00  8160.630  8165.254  8153.448  8158.256     61.203973   \n",
       "\n",
       "                     Volume_(Currency)  Weighted_Price     Timestamp  \\\n",
       "Date                                                                   \n",
       "2018-03-26 23:10:00       1.772500e+05     8192.824829  1.522106e+09   \n",
       "2018-03-26 23:20:00       1.267740e+06     8218.781100  1.522106e+09   \n",
       "2018-03-26 23:30:00       1.004773e+06     8187.745762  1.522107e+09   \n",
       "2018-03-26 23:40:00       3.355007e+05     8167.662603  1.522108e+09   \n",
       "2018-03-26 23:50:00       4.984852e+05     8159.550796  1.522108e+09   \n",
       "\n",
       "                     pred_weight  \n",
       "Date                              \n",
       "2018-03-26 23:10:00  8218.781100  \n",
       "2018-03-26 23:20:00  8187.745762  \n",
       "2018-03-26 23:30:00  8167.662603  \n",
       "2018-03-26 23:40:00  8159.550796  \n",
       "2018-03-26 23:50:00  8155.146220  "
      ]
     },
     "execution_count": 42,
     "metadata": {},
     "output_type": "execute_result"
    }
   ],
   "source": [
    "df = df.iloc[:-1]\n",
    "df.tail()"
   ]
  },
  {
   "cell_type": "code",
   "execution_count": 46,
   "metadata": {},
   "outputs": [
    {
     "data": {
      "text/plain": [
       "Open                 646\n",
       "High                 646\n",
       "Low                  646\n",
       "Close                646\n",
       "Volume_(BTC)           0\n",
       "Volume_(Currency)      0\n",
       "Weighted_Price       646\n",
       "Timestamp            646\n",
       "pred_weight          646\n",
       "dtype: int64"
      ]
     },
     "execution_count": 46,
     "metadata": {},
     "output_type": "execute_result"
    }
   ],
   "source": [
    "df.isnull().sum()"
   ]
  },
  {
   "cell_type": "markdown",
   "metadata": {},
   "source": [
    "## 3.5 Some null values are generated after resampling. Removing these null values."
   ]
  },
  {
   "cell_type": "code",
   "execution_count": 55,
   "metadata": {
    "collapsed": true
   },
   "outputs": [],
   "source": [
    "df = df.dropna(axis = 0)  #Removing the rows with NaN values"
   ]
  },
  {
   "cell_type": "code",
   "execution_count": 56,
   "metadata": {},
   "outputs": [
    {
     "data": {
      "text/plain": [
       "(327338, 9)"
      ]
     },
     "execution_count": 56,
     "metadata": {},
     "output_type": "execute_result"
    }
   ],
   "source": [
    "df.shape"
   ]
  },
  {
   "cell_type": "code",
   "execution_count": 59,
   "metadata": {
    "collapsed": true
   },
   "outputs": [],
   "source": [
    "df['Date'] = pd.to_datetime(df.Timestamp, unit = 's')"
   ]
  },
  {
   "cell_type": "code",
   "execution_count": 60,
   "metadata": {
    "collapsed": true
   },
   "outputs": [],
   "source": [
    "# Save cleaned dataframe to new file\n",
    "df.to_csv('cleaned_df.csv', index=None)"
   ]
  },
  {
   "cell_type": "code",
   "execution_count": 2,
   "metadata": {},
   "outputs": [
    {
     "data": {
      "text/html": [
       "<div>\n",
       "<style scoped>\n",
       "    .dataframe tbody tr th:only-of-type {\n",
       "        vertical-align: middle;\n",
       "    }\n",
       "\n",
       "    .dataframe tbody tr th {\n",
       "        vertical-align: top;\n",
       "    }\n",
       "\n",
       "    .dataframe thead th {\n",
       "        text-align: right;\n",
       "    }\n",
       "</style>\n",
       "<table border=\"1\" class=\"dataframe\">\n",
       "  <thead>\n",
       "    <tr style=\"text-align: right;\">\n",
       "      <th></th>\n",
       "      <th>Open</th>\n",
       "      <th>High</th>\n",
       "      <th>Low</th>\n",
       "      <th>Close</th>\n",
       "      <th>Volume_(BTC)</th>\n",
       "      <th>Volume_(Currency)</th>\n",
       "      <th>Weighted_Price</th>\n",
       "      <th>Timestamp</th>\n",
       "      <th>pred_weight</th>\n",
       "      <th>Date</th>\n",
       "    </tr>\n",
       "  </thead>\n",
       "  <tbody>\n",
       "    <tr>\n",
       "      <th>0</th>\n",
       "      <td>4.39</td>\n",
       "      <td>4.39</td>\n",
       "      <td>4.39</td>\n",
       "      <td>4.39</td>\n",
       "      <td>3.644647</td>\n",
       "      <td>16.0</td>\n",
       "      <td>4.39</td>\n",
       "      <td>1.325318e+09</td>\n",
       "      <td>4.39</td>\n",
       "      <td>2011-12-31 07:52:00</td>\n",
       "    </tr>\n",
       "    <tr>\n",
       "      <th>1</th>\n",
       "      <td>4.39</td>\n",
       "      <td>4.39</td>\n",
       "      <td>4.39</td>\n",
       "      <td>4.39</td>\n",
       "      <td>4.555809</td>\n",
       "      <td>20.0</td>\n",
       "      <td>4.39</td>\n",
       "      <td>1.325318e+09</td>\n",
       "      <td>4.39</td>\n",
       "      <td>2011-12-31 08:00:00</td>\n",
       "    </tr>\n",
       "    <tr>\n",
       "      <th>2</th>\n",
       "      <td>4.39</td>\n",
       "      <td>4.39</td>\n",
       "      <td>4.39</td>\n",
       "      <td>4.39</td>\n",
       "      <td>4.555809</td>\n",
       "      <td>20.0</td>\n",
       "      <td>4.39</td>\n",
       "      <td>1.325319e+09</td>\n",
       "      <td>4.39</td>\n",
       "      <td>2011-12-31 08:10:00</td>\n",
       "    </tr>\n",
       "    <tr>\n",
       "      <th>3</th>\n",
       "      <td>4.39</td>\n",
       "      <td>4.39</td>\n",
       "      <td>4.39</td>\n",
       "      <td>4.39</td>\n",
       "      <td>4.555809</td>\n",
       "      <td>20.0</td>\n",
       "      <td>4.39</td>\n",
       "      <td>1.325320e+09</td>\n",
       "      <td>4.39</td>\n",
       "      <td>2011-12-31 08:20:00</td>\n",
       "    </tr>\n",
       "    <tr>\n",
       "      <th>4</th>\n",
       "      <td>4.39</td>\n",
       "      <td>4.39</td>\n",
       "      <td>4.39</td>\n",
       "      <td>4.39</td>\n",
       "      <td>4.555809</td>\n",
       "      <td>20.0</td>\n",
       "      <td>4.39</td>\n",
       "      <td>1.325320e+09</td>\n",
       "      <td>4.39</td>\n",
       "      <td>2011-12-31 08:30:00</td>\n",
       "    </tr>\n",
       "  </tbody>\n",
       "</table>\n",
       "</div>"
      ],
      "text/plain": [
       "   Open  High   Low  Close  Volume_(BTC)  Volume_(Currency)  Weighted_Price  \\\n",
       "0  4.39  4.39  4.39   4.39      3.644647               16.0            4.39   \n",
       "1  4.39  4.39  4.39   4.39      4.555809               20.0            4.39   \n",
       "2  4.39  4.39  4.39   4.39      4.555809               20.0            4.39   \n",
       "3  4.39  4.39  4.39   4.39      4.555809               20.0            4.39   \n",
       "4  4.39  4.39  4.39   4.39      4.555809               20.0            4.39   \n",
       "\n",
       "      Timestamp  pred_weight                 Date  \n",
       "0  1.325318e+09         4.39  2011-12-31 07:52:00  \n",
       "1  1.325318e+09         4.39  2011-12-31 08:00:00  \n",
       "2  1.325319e+09         4.39  2011-12-31 08:10:00  \n",
       "3  1.325320e+09         4.39  2011-12-31 08:20:00  \n",
       "4  1.325320e+09         4.39  2011-12-31 08:30:00  "
      ]
     },
     "execution_count": 2,
     "metadata": {},
     "output_type": "execute_result"
    }
   ],
   "source": [
    "# Load cleaned dataframe\n",
    "df = pd.read_csv('cleaned_df.csv')\n",
    "df.head()"
   ]
  },
  {
   "cell_type": "markdown",
   "metadata": {},
   "source": [
    "## 3.6 Correlation Heatmap"
   ]
  },
  {
   "cell_type": "code",
   "execution_count": 51,
   "metadata": {
    "scrolled": false
   },
   "outputs": [
    {
     "data": {
      "text/plain": [
       "<matplotlib.axes._subplots.AxesSubplot at 0x1f0b81da630>"
      ]
     },
     "execution_count": 51,
     "metadata": {},
     "output_type": "execute_result"
    },
    {
     "data": {
      "image/png": "[encoded data removed]",
      "text/plain": [
       "<matplotlib.figure.Figure at 0x1f080004f28>"
      ]
     },
     "metadata": {},
     "output_type": "display_data"
    }
   ],
   "source": [
    "plt.figure(figsize=(10,10))\n",
    "sns.heatmap(df.corr())"
   ]
  },
  {
   "cell_type": "markdown",
   "metadata": {},
   "source": [
    "## 3.7 Time Series Graph"
   ]
  },
  {
   "cell_type": "code",
   "execution_count": 53,
   "metadata": {
    "scrolled": false
   },
   "outputs": [
    {
     "data": {
      "text/plain": [
       "<matplotlib.axes._subplots.AxesSubplot at 0x1f08e430588>"
      ]
     },
     "execution_count": 53,
     "metadata": {},
     "output_type": "execute_result"
    },
    {
     "data": {
      "image/png": "[encoded data removed]",
      "text/plain": [
       "<matplotlib.figure.Figure at 0x1f0b80cb7f0>"
      ]
     },
     "metadata": {},
     "output_type": "display_data"
    }
   ],
   "source": [
    "df['Weighted_Price'].plot(figsize = (25,15))"
   ]
  },
  {
   "cell_type": "markdown",
   "metadata": {},
   "source": [
    "# Observations:\n",
    "* From the end of 2017, there has been a rapid rise in value of Bitcoin.\n",
    "* December 2017 showed the highest value of bitcoin.\n",
    "* The period between 2012 to mid 2016 shows no significant fluctuations has been observed."
   ]
  },
  {
   "cell_type": "code",
   "execution_count": 47,
   "metadata": {},
   "outputs": [
    {
     "data": {
      "text/plain": [
       "count    3.273377e+06\n",
       "mean     1.282248e+03\n",
       "std      2.812042e+03\n",
       "min      1.500000e+00\n",
       "25%      1.178500e+02\n",
       "50%      3.960000e+02\n",
       "75%      7.210500e+02\n",
       "max      1.966575e+04\n",
       "Name: Close, dtype: float64"
      ]
     },
     "execution_count": 47,
     "metadata": {},
     "output_type": "execute_result"
    }
   ],
   "source": [
    "df['Close'].describe()"
   ]
  },
  {
   "cell_type": "markdown",
   "metadata": {
    "collapsed": true
   },
   "source": [
    "# 4 Feature Engineering"
   ]
  },
  {
   "cell_type": "markdown",
   "metadata": {},
   "source": [
    "## 4.1 Indicator Variable:"
   ]
  },
  {
   "cell_type": "markdown",
   "metadata": {
    "collapsed": true
   },
   "source": [
    "## 2013 Price Hike\n",
    "\n",
    "![title](Images/2013_spike.png)\n",
    "\n",
    "* Source: CNBC"
   ]
  },
  {
   "cell_type": "markdown",
   "metadata": {},
   "source": [
    "## Price Hike from May to September 2017 (Crossed $ 5000 mark)\n",
    "\n",
    "![title](Images/may_spike.png)"
   ]
  },
  {
   "cell_type": "markdown",
   "metadata": {},
   "source": [
    "## Price Hike from mid - October to December 2017.\n",
    "\n",
    "![title](Images/2017_spike.png)\n",
    "\n",
    "* Source: Coindesk"
   ]
  },
  {
   "cell_type": "code",
   "execution_count": 3,
   "metadata": {
    "collapsed": true
   },
   "outputs": [],
   "source": [
    "df['Price_Hike'] = 0"
   ]
  },
  {
   "cell_type": "code",
   "execution_count": 41,
   "metadata": {
    "collapsed": true
   },
   "outputs": [],
   "source": [
    "def price_hike(df,date_from,date_to):\n",
    "    #This function sets the value of Price_Hike to 1 in the given time frame\n",
    "    \n",
    "    idx_start =  df.index[df['Date'] == date_from]\n",
    "    idx_end =  df.index[df['Date'] == date_to]\n",
    "    for i in range(idx_start[0], idx_end[0] + 1):\n",
    "            df['Price_Hike'][i] = 1\n",
    "    return df "
   ]
  },
  {
   "cell_type": "code",
   "execution_count": null,
   "metadata": {},
   "outputs": [],
   "source": [
    "df_sample = price_hike(df, '2013-02-14 00:00:00', '2013-09-27 00:00:00')"
   ]
  },
  {
   "cell_type": "code",
   "execution_count": null,
   "metadata": {},
   "outputs": [],
   "source": [
    "df_sample = price_hike(df, '2017-05-01 00:00:00', '2017-09-30 00:00:00')"
   ]
  },
  {
   "cell_type": "code",
   "execution_count": null,
   "metadata": {},
   "outputs": [],
   "source": [
    "df_sample = price_hike(df, '2017-10-01 00:00:00', '2017-12-31 00:00:00')"
   ]
  },
  {
   "cell_type": "markdown",
   "metadata": {},
   "source": [
    "## 4.2 Interaction Feature"
   ]
  },
  {
   "cell_type": "code",
   "execution_count": 5,
   "metadata": {
    "collapsed": true
   },
   "outputs": [],
   "source": [
    "# Creates a new feature which shows the difference in BTC value after closing\n",
    "df['Diff_Value'] = df['Close']-df['Open']"
   ]
  },
  {
   "cell_type": "code",
   "execution_count": 12,
   "metadata": {
    "collapsed": true
   },
   "outputs": [],
   "source": [
    "#Creates a new feature 'Status' which indicates whether the BTC price dropped or gained after closing\n",
    "#Increased value is indicated by 1 and decreased value is indicated by 0\n",
    "def partition(x):\n",
    "    if x>=0:\n",
    "        return 1\n",
    "    return 0\n",
    "\n",
    "df['Status']=df['Diff_Value'].map(partition)"
   ]
  },
  {
   "cell_type": "code",
   "execution_count": 14,
   "metadata": {},
   "outputs": [
    {
     "data": {
      "text/html": [
       "<div>\n",
       "<style scoped>\n",
       "    .dataframe tbody tr th:only-of-type {\n",
       "        vertical-align: middle;\n",
       "    }\n",
       "\n",
       "    .dataframe tbody tr th {\n",
       "        vertical-align: top;\n",
       "    }\n",
       "\n",
       "    .dataframe thead th {\n",
       "        text-align: right;\n",
       "    }\n",
       "</style>\n",
       "<table border=\"1\" class=\"dataframe\">\n",
       "  <thead>\n",
       "    <tr style=\"text-align: right;\">\n",
       "      <th></th>\n",
       "      <th>Open</th>\n",
       "      <th>High</th>\n",
       "      <th>Low</th>\n",
       "      <th>Close</th>\n",
       "      <th>Volume_(BTC)</th>\n",
       "      <th>Volume_(Currency)</th>\n",
       "      <th>Weighted_Price</th>\n",
       "      <th>Timestamp</th>\n",
       "      <th>pred_weight</th>\n",
       "      <th>Date</th>\n",
       "      <th>Price_Hike</th>\n",
       "      <th>Diff_Value</th>\n",
       "      <th>Status</th>\n",
       "    </tr>\n",
       "  </thead>\n",
       "  <tbody>\n",
       "    <tr>\n",
       "      <th>327333</th>\n",
       "      <td>8190.726</td>\n",
       "      <td>8197.484</td>\n",
       "      <td>8187.408</td>\n",
       "      <td>8192.613</td>\n",
       "      <td>21.636469</td>\n",
       "      <td>1.772500e+05</td>\n",
       "      <td>8192.824829</td>\n",
       "      <td>1.522106e+09</td>\n",
       "      <td>8218.781100</td>\n",
       "      <td>2018-03-26 23:10:00</td>\n",
       "      <td>0</td>\n",
       "      <td>1.887</td>\n",
       "      <td>1</td>\n",
       "    </tr>\n",
       "    <tr>\n",
       "      <th>327334</th>\n",
       "      <td>8216.419</td>\n",
       "      <td>8228.551</td>\n",
       "      <td>8207.362</td>\n",
       "      <td>8215.391</td>\n",
       "      <td>153.945083</td>\n",
       "      <td>1.267740e+06</td>\n",
       "      <td>8218.781100</td>\n",
       "      <td>1.522106e+09</td>\n",
       "      <td>8187.745762</td>\n",
       "      <td>2018-03-26 23:20:00</td>\n",
       "      <td>0</td>\n",
       "      <td>-1.028</td>\n",
       "      <td>0</td>\n",
       "    </tr>\n",
       "    <tr>\n",
       "      <th>327335</th>\n",
       "      <td>8189.055</td>\n",
       "      <td>8198.373</td>\n",
       "      <td>8179.008</td>\n",
       "      <td>8186.055</td>\n",
       "      <td>122.962332</td>\n",
       "      <td>1.004773e+06</td>\n",
       "      <td>8187.745762</td>\n",
       "      <td>1.522107e+09</td>\n",
       "      <td>8167.662603</td>\n",
       "      <td>2018-03-26 23:30:00</td>\n",
       "      <td>0</td>\n",
       "      <td>-3.000</td>\n",
       "      <td>0</td>\n",
       "    </tr>\n",
       "    <tr>\n",
       "      <th>327336</th>\n",
       "      <td>8168.010</td>\n",
       "      <td>8173.385</td>\n",
       "      <td>8163.228</td>\n",
       "      <td>8167.658</td>\n",
       "      <td>41.068976</td>\n",
       "      <td>3.355007e+05</td>\n",
       "      <td>8167.662603</td>\n",
       "      <td>1.522108e+09</td>\n",
       "      <td>8159.550796</td>\n",
       "      <td>2018-03-26 23:40:00</td>\n",
       "      <td>0</td>\n",
       "      <td>-0.352</td>\n",
       "      <td>0</td>\n",
       "    </tr>\n",
       "    <tr>\n",
       "      <th>327337</th>\n",
       "      <td>8160.630</td>\n",
       "      <td>8165.254</td>\n",
       "      <td>8153.448</td>\n",
       "      <td>8158.256</td>\n",
       "      <td>61.203973</td>\n",
       "      <td>4.984852e+05</td>\n",
       "      <td>8159.550796</td>\n",
       "      <td>1.522108e+09</td>\n",
       "      <td>8155.146220</td>\n",
       "      <td>2018-03-26 23:50:00</td>\n",
       "      <td>0</td>\n",
       "      <td>-2.374</td>\n",
       "      <td>0</td>\n",
       "    </tr>\n",
       "  </tbody>\n",
       "</table>\n",
       "</div>"
      ],
      "text/plain": [
       "            Open      High       Low     Close  Volume_(BTC)  \\\n",
       "327333  8190.726  8197.484  8187.408  8192.613     21.636469   \n",
       "327334  8216.419  8228.551  8207.362  8215.391    153.945083   \n",
       "327335  8189.055  8198.373  8179.008  8186.055    122.962332   \n",
       "327336  8168.010  8173.385  8163.228  8167.658     41.068976   \n",
       "327337  8160.630  8165.254  8153.448  8158.256     61.203973   \n",
       "\n",
       "        Volume_(Currency)  Weighted_Price     Timestamp  pred_weight  \\\n",
       "327333       1.772500e+05     8192.824829  1.522106e+09  8218.781100   \n",
       "327334       1.267740e+06     8218.781100  1.522106e+09  8187.745762   \n",
       "327335       1.004773e+06     8187.745762  1.522107e+09  8167.662603   \n",
       "327336       3.355007e+05     8167.662603  1.522108e+09  8159.550796   \n",
       "327337       4.984852e+05     8159.550796  1.522108e+09  8155.146220   \n",
       "\n",
       "                       Date  Price_Hike  Diff_Value  Status  \n",
       "327333  2018-03-26 23:10:00           0       1.887       1  \n",
       "327334  2018-03-26 23:20:00           0      -1.028       0  \n",
       "327335  2018-03-26 23:30:00           0      -3.000       0  \n",
       "327336  2018-03-26 23:40:00           0      -0.352       0  \n",
       "327337  2018-03-26 23:50:00           0      -2.374       0  "
      ]
     },
     "execution_count": 14,
     "metadata": {},
     "output_type": "execute_result"
    }
   ],
   "source": [
    "df.tail()"
   ]
  },
  {
   "cell_type": "markdown",
   "metadata": {},
   "source": [
    "### Saving the final dataframe to disk"
   ]
  },
  {
   "cell_type": "code",
   "execution_count": null,
   "metadata": {
    "collapsed": true
   },
   "outputs": [],
   "source": [
    "df.to_csv('final_bitcoin.csv', index=None)"
   ]
  },
  {
   "cell_type": "markdown",
   "metadata": {},
   "source": [
    "# 5. Machine Learning Models\n",
    "## 5.1 Data Preparation"
   ]
  },
  {
   "cell_type": "code",
   "execution_count": 4,
   "metadata": {
    "collapsed": true
   },
   "outputs": [],
   "source": [
    "df = pd.read_csv(\"final_bitcoin.csv\")"
   ]
  },
  {
   "cell_type": "markdown",
   "metadata": {},
   "source": [
    "### 5.1.1 Train and Test Splits\n",
    "Separate your dataframe into separate objects for the target variable (y) and the input features (X) and perform the train and test split"
   ]
  },
  {
   "cell_type": "code",
   "execution_count": 5,
   "metadata": {
    "collapsed": true
   },
   "outputs": [],
   "source": [
    "# Create separate object for target variable\n",
    "y = df.pred_weight\n",
    "# Create separate object for input features\n",
    "X = df.drop(columns = ['pred_weight','Date','Timestamp'], axis=1)"
   ]
  },
  {
   "cell_type": "code",
   "execution_count": 6,
   "metadata": {
    "collapsed": true
   },
   "outputs": [],
   "source": [
    "# Split X and y into train and test sets: 80-20 (Time based splitting)\n",
    "X_train, X_test, y_train, y_test = train_test_split(X, y, test_size=0.2, shuffle = False)"
   ]
  },
  {
   "cell_type": "code",
   "execution_count": 7,
   "metadata": {},
   "outputs": [
    {
     "name": "stdout",
     "output_type": "stream",
     "text": [
      "(261870, 10) (65468, 10) (261870,) (65468,)\n"
     ]
    }
   ],
   "source": [
    "print(X_train.shape, X_test.shape, y_train.shape, y_test.shape)"
   ]
  },
  {
   "cell_type": "markdown",
   "metadata": {},
   "source": [
    "## 5.2 Model 1 - Baseline Model\n",
    "* In this model, for every test data point, we will simply predict the average of the train labels as the output.\n",
    "* We will use this simple model to perform hypothesis testing for other complex models."
   ]
  },
  {
   "cell_type": "code",
   "execution_count": 19,
   "metadata": {
    "collapsed": true
   },
   "outputs": [],
   "source": [
    "## Predict Train results\n",
    "y_train_pred = np.ones(y_train.shape[0])*y_train.mean()"
   ]
  },
  {
   "cell_type": "code",
   "execution_count": 20,
   "metadata": {
    "collapsed": true
   },
   "outputs": [],
   "source": [
    "## Predict Test results\n",
    "y_pred = np.ones(y_test.shape[0])*y_train.mean()"
   ]
  },
  {
   "cell_type": "code",
   "execution_count": 21,
   "metadata": {},
   "outputs": [
    {
     "name": "stdout",
     "output_type": "stream",
     "text": [
      "Train Results for Baseline Model:\n",
      "*******************************\n",
      "Root mean squared error:  251.98000475088818\n",
      "R-squared:  0.0\n",
      "Mean Absolute Error:  215.56026592\n"
     ]
    }
   ],
   "source": [
    "print(\"Train Results for Baseline Model:\")\n",
    "print(\"*******************************\")\n",
    "print(\"Root mean squared error: \", sqrt(mse(y_train.values, y_train_pred)))\n",
    "print(\"R-squared: \", r2_score(y_train.values, y_train_pred))\n",
    "print(\"Mean Absolute Error: \", mae(y_train.values, y_train_pred))"
   ]
  },
  {
   "cell_type": "code",
   "execution_count": 22,
   "metadata": {},
   "outputs": [
    {
     "name": "stdout",
     "output_type": "stream",
     "text": [
      "Results for Baseline Model:\n",
      "*******************************\n",
      "Root mean squared error:  6633.335576968769\n",
      "R-squared:  -1.15897190758\n",
      "Mean Absolute Error:  4860.09689154\n"
     ]
    }
   ],
   "source": [
    "print(\"Results for Baseline Model:\")\n",
    "print(\"*******************************\")\n",
    "print(\"Root mean squared error: \", sqrt(mse(y_test, y_pred)))\n",
    "print(\"R-squared: \", r2_score(y_test, y_pred))\n",
    "print(\"Mean Absolute Error: \", mae(y_test, y_pred))"
   ]
  },
  {
   "cell_type": "markdown",
   "metadata": {},
   "source": [
    "## 5.3 Model 2 - Ridge Regression"
   ]
  },
  {
   "cell_type": "code",
   "execution_count": 27,
   "metadata": {},
   "outputs": [
    {
     "data": {
      "text/plain": [
       "GridSearchCV(cv=10, error_score='raise',\n",
       "       estimator=Ridge(alpha=1.0, copy_X=True, fit_intercept=True, max_iter=None,\n",
       "   normalize=False, random_state=None, solver='auto', tol=0.001),\n",
       "       fit_params=None, iid=True, n_jobs=-1,\n",
       "       param_grid={'alpha': [0.0001, 0.001, 0.01, 0.1, 1, 10, 100, 1000, 10000, 100000]},\n",
       "       pre_dispatch='2*n_jobs', refit=True, return_train_score='warn',\n",
       "       scoring='neg_mean_absolute_error', verbose=0)"
      ]
     },
     "execution_count": 27,
     "metadata": {},
     "output_type": "execute_result"
    }
   ],
   "source": [
    "tuned_params = {'alpha': [0.0001, 0.001, 0.01, 0.1, 1, 10, 100, 1000, 10000, 100000]}\n",
    "model = GridSearchCV(Ridge(), tuned_params, scoring = 'neg_mean_absolute_error', cv=10, n_jobs=-1)\n",
    "model.fit(X_train, y_train)"
   ]
  },
  {
   "cell_type": "code",
   "execution_count": 28,
   "metadata": {},
   "outputs": [
    {
     "data": {
      "text/plain": [
       "Ridge(alpha=100000, copy_X=True, fit_intercept=True, max_iter=None,\n",
       "   normalize=False, random_state=None, solver='auto', tol=0.001)"
      ]
     },
     "execution_count": 28,
     "metadata": {},
     "output_type": "execute_result"
    }
   ],
   "source": [
    "model.best_estimator_"
   ]
  },
  {
   "cell_type": "code",
   "execution_count": 29,
   "metadata": {
    "collapsed": true
   },
   "outputs": [],
   "source": [
    "## Predict Train results\n",
    "y_train_pred = model.predict(X_train)"
   ]
  },
  {
   "cell_type": "code",
   "execution_count": 30,
   "metadata": {
    "collapsed": true
   },
   "outputs": [],
   "source": [
    "## Predict Test results\n",
    "y_pred = model.predict(X_test)"
   ]
  },
  {
   "cell_type": "code",
   "execution_count": 27,
   "metadata": {},
   "outputs": [
    {
     "name": "stdout",
     "output_type": "stream",
     "text": [
      "Train Results for Ridge Regression:\n",
      "*******************************\n",
      "Root mean squared error:  1.5666082834253139\n",
      "R-squared:  0.999961346513\n",
      "Mean Absolute Error:  0.562249698494\n"
     ]
    }
   ],
   "source": [
    "print(\"Train Results for Ridge Regression:\")\n",
    "print(\"*******************************\")\n",
    "print(\"Root mean squared error: \", sqrt(mse(y_train.values, y_train_pred)))\n",
    "print(\"R-squared: \", r2_score(y_train.values, y_train_pred))\n",
    "print(\"Mean Absolute Error: \", mae(y_train.values, y_train_pred))"
   ]
  },
  {
   "cell_type": "code",
   "execution_count": 28,
   "metadata": {
    "scrolled": true
   },
   "outputs": [
    {
     "name": "stdout",
     "output_type": "stream",
     "text": [
      "Test Results for Ridge Regression:\n",
      "*******************************\n",
      "Root mean squared error:  35.37561469080161\n",
      "R-squared:  0.999938596794\n",
      "Mean Absolute Error:  16.1488340837\n"
     ]
    }
   ],
   "source": [
    "print(\"Test Results for Ridge Regression:\")\n",
    "print(\"*******************************\")\n",
    "print(\"Root mean squared error: \", sqrt(mse(y_test, y_pred)))\n",
    "print(\"R-squared: \", r2_score(y_test, y_pred))\n",
    "print(\"Mean Absolute Error: \", mae(y_test, y_pred))"
   ]
  },
  {
   "cell_type": "markdown",
   "metadata": {},
   "source": [
    "## 5.3.1 Feature Importance"
   ]
  },
  {
   "cell_type": "code",
   "execution_count": 29,
   "metadata": {},
   "outputs": [
    {
     "data": {
      "text/plain": [
       "Ridge(alpha=100000, copy_X=True, fit_intercept=True, max_iter=None,\n",
       "   normalize=False, random_state=None, solver='auto', tol=0.001)"
      ]
     },
     "execution_count": 29,
     "metadata": {},
     "output_type": "execute_result"
    }
   ],
   "source": [
    "## Building the model again with the best hyperparameters\n",
    "model = Ridge(alpha=100000)\n",
    "model.fit(X_train, y_train)"
   ]
  },
  {
   "cell_type": "code",
   "execution_count": 30,
   "metadata": {},
   "outputs": [
    {
     "name": "stdout",
     "output_type": "stream",
     "text": [
      "The features in order of importance are:\n",
      "--------------------------------------------------\n",
      "Close\n",
      "Diff_Value\n",
      "Weighted_Price\n",
      "High\n",
      "Low\n",
      "Status\n",
      "Open\n",
      "Price_Hike\n",
      "Volume_(BTC)\n",
      "Volume_(Currency)\n"
     ]
    }
   ],
   "source": [
    "indices = np.argsort(-abs(model.coef_))\n",
    "print(\"The features in order of importance are:\")\n",
    "print(50*'-')\n",
    "for feature in X.columns[indices]:\n",
    "    print(feature)"
   ]
  },
  {
   "cell_type": "markdown",
   "metadata": {},
   "source": [
    "## 5.4 Model 4 - Random Forest Regression"
   ]
  },
  {
   "cell_type": "code",
   "execution_count": 7,
   "metadata": {},
   "outputs": [
    {
     "data": {
      "text/plain": [
       "RandomizedSearchCV(cv=5, error_score='raise',\n",
       "          estimator=RandomForestRegressor(bootstrap=True, criterion='mse', max_depth=None,\n",
       "           max_features='auto', max_leaf_nodes=None,\n",
       "           min_impurity_decrease=0.0, min_impurity_split=None,\n",
       "           min_samples_leaf=1, min_samples_split=2,\n",
       "           min_weight_fraction_leaf=0.0, n_estimators=10, n_jobs=1,\n",
       "           oob_score=False, random_state=None, verbose=0, warm_start=False),\n",
       "          fit_params=None, iid=True, n_iter=20, n_jobs=-1,\n",
       "          param_distributions={'n_estimators': [100, 200, 300, 400, 500], 'min_samples_split': [2, 5, 10], 'min_samples_leaf': [1, 2, 4]},\n",
       "          pre_dispatch='2*n_jobs', random_state=None, refit=True,\n",
       "          return_train_score='warn', scoring='neg_mean_absolute_error',\n",
       "          verbose=0)"
      ]
     },
     "execution_count": 7,
     "metadata": {},
     "output_type": "execute_result"
    }
   ],
   "source": [
    "tuned_params = {'n_estimators': [100, 200, 300, 400, 500], 'min_samples_split': [2, 5, 10], 'min_samples_leaf': [1, 2, 4]}\n",
    "model = RandomizedSearchCV(RandomForestRegressor(), tuned_params, n_iter=20, scoring = 'neg_mean_absolute_error', cv=5, n_jobs=-1)\n",
    "model.fit(X_train, y_train)"
   ]
  },
  {
   "cell_type": "code",
   "execution_count": 8,
   "metadata": {},
   "outputs": [
    {
     "data": {
      "text/plain": [
       "RandomForestRegressor(bootstrap=True, criterion='mse', max_depth=None,\n",
       "           max_features='auto', max_leaf_nodes=None,\n",
       "           min_impurity_decrease=0.0, min_impurity_split=None,\n",
       "           min_samples_leaf=4, min_samples_split=2,\n",
       "           min_weight_fraction_leaf=0.0, n_estimators=200, n_jobs=1,\n",
       "           oob_score=False, random_state=None, verbose=0, warm_start=False)"
      ]
     },
     "execution_count": 8,
     "metadata": {},
     "output_type": "execute_result"
    }
   ],
   "source": [
    "model.best_estimator_"
   ]
  },
  {
   "cell_type": "code",
   "execution_count": 9,
   "metadata": {
    "collapsed": true
   },
   "outputs": [],
   "source": [
    "## Predict Train results\n",
    "y_train_pred = model.predict(X_train)"
   ]
  },
  {
   "cell_type": "code",
   "execution_count": 10,
   "metadata": {
    "collapsed": true
   },
   "outputs": [],
   "source": [
    "## Predict Test results\n",
    "y_pred = model.predict(X_test)"
   ]
  },
  {
   "cell_type": "code",
   "execution_count": 11,
   "metadata": {},
   "outputs": [
    {
     "name": "stdout",
     "output_type": "stream",
     "text": [
      "Train Results for Random Forest Regression:\n",
      "*******************************\n",
      "Root mean squared error:  1.070533113843736\n",
      "R-squared:  0.99998195038\n",
      "Mean Absolute Error:  0.365299285444\n"
     ]
    }
   ],
   "source": [
    "print(\"Train Results for Random Forest Regression:\")\n",
    "print(\"*******************************\")\n",
    "print(\"Root mean squared error: \", sqrt(mse(y_train.values, y_train_pred)))\n",
    "print(\"R-squared: \", r2_score(y_train.values, y_train_pred))\n",
    "print(\"Mean Absolute Error: \", mae(y_train.values, y_train_pred))"
   ]
  },
  {
   "cell_type": "code",
   "execution_count": 13,
   "metadata": {},
   "outputs": [
    {
     "name": "stdout",
     "output_type": "stream",
     "text": [
      "Test Results for Random Forest Regression:\n",
      "*******************************\n",
      "Root mean squared error:  6039.132889445278\n",
      "R-squared:  -0.789502158913\n",
      "Mean Absolute Error:  4042.70934561\n"
     ]
    }
   ],
   "source": [
    "print(\"Test Results for Random Forest Regression:\")\n",
    "print(\"*******************************\")\n",
    "print(\"Root mean squared error: \", sqrt(mse(y_test, y_pred)))\n",
    "print(\"R-squared: \", r2_score(y_test, y_pred))\n",
    "print(\"Mean Absolute Error: \", mae(y_test, y_pred))"
   ]
  },
  {
   "cell_type": "markdown",
   "metadata": {},
   "source": [
    "## 5.4.1 Feature Importance"
   ]
  },
  {
   "cell_type": "code",
   "execution_count": 15,
   "metadata": {},
   "outputs": [
    {
     "data": {
      "text/plain": [
       "RandomForestRegressor(bootstrap=True, criterion='mse', max_depth=None,\n",
       "           max_features='auto', max_leaf_nodes=None,\n",
       "           min_impurity_decrease=0.0, min_impurity_split=None,\n",
       "           min_samples_leaf=4, min_samples_split=2,\n",
       "           min_weight_fraction_leaf=0.0, n_estimators=200, n_jobs=1,\n",
       "           oob_score=False, random_state=None, verbose=0, warm_start=False)"
      ]
     },
     "execution_count": 15,
     "metadata": {},
     "output_type": "execute_result"
    }
   ],
   "source": [
    "## Building the model again with the best hyperparameters\n",
    "model = RandomForestRegressor(n_estimators=200, min_samples_split=2, min_samples_leaf=4)\n",
    "model.fit(X_train, y_train)"
   ]
  },
  {
   "cell_type": "code",
   "execution_count": 16,
   "metadata": {},
   "outputs": [
    {
     "name": "stdout",
     "output_type": "stream",
     "text": [
      "The features in order of importance are:\n",
      "--------------------------------------------------\n",
      "Close\n",
      "Weighted_Price\n",
      "High\n",
      "Low\n",
      "Open\n",
      "Diff_Value\n",
      "Volume_(BTC)\n",
      "Volume_(Currency)\n",
      "Status\n",
      "Price_Hike\n"
     ]
    }
   ],
   "source": [
    "indices = np.argsort(-model.feature_importances_)\n",
    "print(\"The features in order of importance are:\")\n",
    "print(50*'-')\n",
    "for feature in X.columns[indices]:\n",
    "    print(feature)"
   ]
  },
  {
   "cell_type": "markdown",
   "metadata": {
    "collapsed": true
   },
   "source": [
    "## 5.5 KNN Regression"
   ]
  },
  {
   "cell_type": "code",
   "execution_count": 27,
   "metadata": {},
   "outputs": [
    {
     "name": "stdout",
     "output_type": "stream",
     "text": [
      "\n",
      "The optimal number of neighbors is 1.\n"
     ]
    }
   ],
   "source": [
    "#5 fold CV\n",
    "neighbors = list(range(1,20,2))\n",
    "cv_scores = []\n",
    "\n",
    "for k in neighbors:\n",
    "    knn = KNeighborsRegressor(n_neighbors = k)\n",
    "    scores = cross_val_score(knn, X_train, y_train, cv = 5, scoring = 'neg_mean_absolute_error')\n",
    "    cv_scores.append(scores.mean())\n",
    "    \n",
    "MSE = [1 - x for x in cv_scores]\n",
    "\n",
    "optimal_k = neighbors[MSE.index(min(MSE))]\n",
    "print('\\nThe optimal number of neighbors is %d.' % optimal_k)"
   ]
  },
  {
   "cell_type": "code",
   "execution_count": 34,
   "metadata": {},
   "outputs": [
    {
     "data": {
      "text/plain": [
       "KNeighborsRegressor(algorithm='auto', leaf_size=30, metric='minkowski',\n",
       "          metric_params=None, n_jobs=1, n_neighbors=1, p=2,\n",
       "          weights='uniform')"
      ]
     },
     "execution_count": 34,
     "metadata": {},
     "output_type": "execute_result"
    }
   ],
   "source": [
    "model = KNeighborsRegressor(n_neighbors = 1)\n",
    "model.fit(X_train, y_train)"
   ]
  },
  {
   "cell_type": "code",
   "execution_count": 35,
   "metadata": {
    "collapsed": true
   },
   "outputs": [],
   "source": [
    "y_train_pred = model.predict(X_train)"
   ]
  },
  {
   "cell_type": "code",
   "execution_count": 36,
   "metadata": {
    "collapsed": true
   },
   "outputs": [],
   "source": [
    "y_pred = model.predict(X_test)"
   ]
  },
  {
   "cell_type": "code",
   "execution_count": 31,
   "metadata": {},
   "outputs": [
    {
     "name": "stdout",
     "output_type": "stream",
     "text": [
      "Train Results for KNN Regression:\n",
      "**a*****************************\n",
      "Root mean squared error:  0.02027800953540406\n",
      "R-squared:  0.999999993524\n",
      "Mean Absolute Error:  0.00147003799877\n"
     ]
    }
   ],
   "source": [
    "print(\"Train Results for KNN Regression:\")\n",
    "print(\"**a*****************************\")\n",
    "print(\"Root mean squared error: \", sqrt(mse(y_train.values, y_train_pred)))\n",
    "print(\"R-squared: \", r2_score(y_train.values, y_train_pred))\n",
    "print(\"Mean Absolute Error: \", mae(y_train.values, y_train_pred))"
   ]
  },
  {
   "cell_type": "code",
   "execution_count": 32,
   "metadata": {},
   "outputs": [
    {
     "name": "stdout",
     "output_type": "stream",
     "text": [
      "Test Results for KNN Regression:\n",
      "*******************************\n",
      "Root mean squared error:  6187.855846874611\n",
      "R-squared:  -0.878725930895\n",
      "Mean Absolute Error:  4171.76141427\n"
     ]
    }
   ],
   "source": [
    "print(\"Test Results for KNN Regression:\")\n",
    "print(\"*******************************\")\n",
    "print(\"Root mean squared error: \", sqrt(mse(y_test, y_pred)))\n",
    "print(\"R-squared: \", r2_score(y_test, y_pred))\n",
    "print(\"Mean Absolute Error: \", mae(y_test, y_pred))"
   ]
  },
  {
   "cell_type": "markdown",
   "metadata": {},
   "source": [
    "## 5.6 Lasso Regression"
   ]
  },
  {
   "cell_type": "code",
   "execution_count": 8,
   "metadata": {
    "scrolled": true
   },
   "outputs": [
    {
     "data": {
      "text/plain": [
       "GridSearchCV(cv=5, error_score='raise',\n",
       "       estimator=Lasso(alpha=1.0, copy_X=True, fit_intercept=True, max_iter=1000,\n",
       "   normalize=False, positive=False, precompute=False, random_state=None,\n",
       "   selection='cyclic', tol=0.0001, warm_start=False),\n",
       "       fit_params=None, iid=True, n_jobs=-1,\n",
       "       param_grid={'alpha': [0.001, 0.01, 0.1, 1, 10, 100, 1000]},\n",
       "       pre_dispatch='2*n_jobs', refit=True, return_train_score='warn',\n",
       "       scoring='neg_mean_absolute_error', verbose=0)"
      ]
     },
     "execution_count": 8,
     "metadata": {},
     "output_type": "execute_result"
    }
   ],
   "source": [
    "tuned_params = {'alpha' : [0.001,0.01,0.1,1,10,100,1000]}\n",
    "model = GridSearchCV(linear_model.Lasso(), tuned_params, scoring = 'neg_mean_absolute_error', cv=5, n_jobs=-1)\n",
    "model.fit(X_train, y_train)"
   ]
  },
  {
   "cell_type": "code",
   "execution_count": 9,
   "metadata": {},
   "outputs": [
    {
     "data": {
      "text/plain": [
       "Lasso(alpha=0.1, copy_X=True, fit_intercept=True, max_iter=1000,\n",
       "   normalize=False, positive=False, precompute=False, random_state=None,\n",
       "   selection='cyclic', tol=0.0001, warm_start=False)"
      ]
     },
     "execution_count": 9,
     "metadata": {},
     "output_type": "execute_result"
    }
   ],
   "source": [
    "model.best_estimator_"
   ]
  },
  {
   "cell_type": "code",
   "execution_count": 10,
   "metadata": {},
   "outputs": [
    {
     "data": {
      "text/plain": [
       "Lasso(alpha=0.1, copy_X=True, fit_intercept=True, max_iter=1000,\n",
       "   normalize=False, positive=False, precompute=False, random_state=None,\n",
       "   selection='cyclic', tol=0.0001, warm_start=False)"
      ]
     },
     "execution_count": 10,
     "metadata": {},
     "output_type": "execute_result"
    }
   ],
   "source": [
    "clf = linear_model.Lasso(alpha = 0.1)\n",
    "clf.fit(X_train, y_train)"
   ]
  },
  {
   "cell_type": "code",
   "execution_count": 11,
   "metadata": {
    "collapsed": true
   },
   "outputs": [],
   "source": [
    "y_train_pred = model.predict(X_train)"
   ]
  },
  {
   "cell_type": "code",
   "execution_count": 12,
   "metadata": {
    "collapsed": true
   },
   "outputs": [],
   "source": [
    "y_pred = clf.predict(X_test)"
   ]
  },
  {
   "cell_type": "code",
   "execution_count": 13,
   "metadata": {},
   "outputs": [
    {
     "name": "stdout",
     "output_type": "stream",
     "text": [
      "Train Results for Lasso Regression:\n",
      "**a*****************************\n",
      "Root mean squared error:  1.5670392266222117\n",
      "R-squared:  0.999961325245\n",
      "Mean Absolute Error:  0.560471923249\n"
     ]
    }
   ],
   "source": [
    "print(\"Train Results for Lasso Regression:\")\n",
    "print(\"**a*****************************\")\n",
    "print(\"Root mean squared error: \", sqrt(mse(y_train.values, y_train_pred)))\n",
    "print(\"R-squared: \", r2_score(y_train.values, y_train_pred))\n",
    "print(\"Mean Absolute Error: \", mae(y_train.values, y_train_pred))"
   ]
  },
  {
   "cell_type": "code",
   "execution_count": 14,
   "metadata": {},
   "outputs": [
    {
     "name": "stdout",
     "output_type": "stream",
     "text": [
      "Test Results for Lasso Regression:\n",
      "*******************************\n",
      "Root mean squared error:  35.023817077111254\n",
      "R-squared:  0.999939811987\n",
      "Mean Absolute Error:  16.0315185253\n"
     ]
    }
   ],
   "source": [
    "print(\"Test Results for Lasso Regression:\")\n",
    "print(\"*******************************\")\n",
    "print(\"Root mean squared error: \", sqrt(mse(y_test, y_pred)))\n",
    "print(\"R-squared: \", r2_score(y_test, y_pred))\n",
    "print(\"Mean Absolute Error: \", mae(y_test, y_pred))"
   ]
  },
  {
   "cell_type": "markdown",
   "metadata": {},
   "source": [
    "## 5.7 Decision Tree Regression"
   ]
  },
  {
   "cell_type": "code",
   "execution_count": 19,
   "metadata": {},
   "outputs": [
    {
     "data": {
      "text/plain": [
       "DecisionTreeRegressor(criterion='mse', max_depth=None, max_features=None,\n",
       "           max_leaf_nodes=None, min_impurity_decrease=0.0,\n",
       "           min_impurity_split=None, min_samples_leaf=1,\n",
       "           min_samples_split=2, min_weight_fraction_leaf=0.0,\n",
       "           presort=False, random_state=123, splitter='best')"
      ]
     },
     "execution_count": 19,
     "metadata": {},
     "output_type": "execute_result"
    }
   ],
   "source": [
    "reg = DecisionTreeRegressor(random_state = 123)\n",
    "reg.fit(X_train, y_train)"
   ]
  },
  {
   "cell_type": "code",
   "execution_count": 20,
   "metadata": {},
   "outputs": [
    {
     "data": {
      "text/plain": [
       "array([-2.19873586,  0.94724539,  0.99945601,  0.99907172,  0.99972992])"
      ]
     },
     "execution_count": 20,
     "metadata": {},
     "output_type": "execute_result"
    }
   ],
   "source": [
    "cross_val_score(reg, X_train, y_train, cv = 5)"
   ]
  },
  {
   "cell_type": "code",
   "execution_count": 21,
   "metadata": {
    "collapsed": true
   },
   "outputs": [],
   "source": [
    "y_pred = reg.predict(X_test)"
   ]
  },
  {
   "cell_type": "code",
   "execution_count": 22,
   "metadata": {
    "collapsed": true
   },
   "outputs": [],
   "source": [
    "y_train_pred = reg.predict(X_train)"
   ]
  },
  {
   "cell_type": "code",
   "execution_count": 23,
   "metadata": {},
   "outputs": [
    {
     "name": "stdout",
     "output_type": "stream",
     "text": [
      "Train Results for Decision Tree Regression:\n",
      "**a*****************************\n",
      "Root mean squared error:  0.012919265241842958\n",
      "R-squared:  0.999999997371\n",
      "Mean Absolute Error:  0.00136662735771\n"
     ]
    }
   ],
   "source": [
    "print(\"Train Results for Decision Tree Regression:\")\n",
    "print(\"**a*****************************\")\n",
    "print(\"Root mean squared error: \", sqrt(mse(y_train.values, y_train_pred)))\n",
    "print(\"R-squared: \", r2_score(y_train.values, y_train_pred))\n",
    "print(\"Mean Absolute Error: \", mae(y_train.values, y_train_pred))"
   ]
  },
  {
   "cell_type": "code",
   "execution_count": 24,
   "metadata": {},
   "outputs": [
    {
     "name": "stdout",
     "output_type": "stream",
     "text": [
      "Test Results for Decision Tree Regression:\n",
      "*******************************\n",
      "Root mean squared error:  6038.101359059112\n",
      "R-squared:  -0.788890889634\n",
      "Mean Absolute Error:  4041.63640218\n"
     ]
    }
   ],
   "source": [
    "print(\"Test Results for Decision Tree Regression:\")\n",
    "print(\"*******************************\")\n",
    "print(\"Root mean squared error: \", sqrt(mse(y_test, y_pred)))\n",
    "print(\"R-squared: \", r2_score(y_test, y_pred))\n",
    "print(\"Mean Absolute Error: \", mae(y_test, y_pred))"
   ]
  },
  {
   "cell_type": "markdown",
   "metadata": {},
   "source": [
    "## 6. Saving the best model to disk"
   ]
  },
  {
   "cell_type": "code",
   "execution_count": 26,
   "metadata": {},
   "outputs": [
    {
     "data": {
      "text/plain": [
       "['lasso_btc.pkl']"
      ]
     },
     "execution_count": 26,
     "metadata": {},
     "output_type": "execute_result"
    }
   ],
   "source": [
    "win_model = linear_model.Lasso(alpha = 0.1)\n",
    "win_model.fit(X_train, y_train)\n",
    "joblib.dump(win_model, 'lasso_btc.pkl') "
   ]
  },
  {
   "cell_type": "markdown",
   "metadata": {},
   "source": [
    "## Observations:\n",
    "\n",
    "![title](Images/Table.png)"
   ]
  },
  {
   "cell_type": "markdown",
   "metadata": {},
   "source": [
    "* Except Rigde and Lasso Regression Models, others tend to overfit.\n",
    "* Ridge and Lasso Regression models gives almost same results."
   ]
  },
  {
   "cell_type": "code",
   "execution_count": null,
   "metadata": {
    "collapsed": true
   },
   "outputs": [],
   "source": []
  }
 ],
 "metadata": {
  "kernelspec": {
   "display_name": "Python 3",
   "language": "python",
   "name": "python3"
  },
  "language_info": {
   "codemirror_mode": {
    "name": "ipython",
    "version": 3
   },
   "file_extension": ".py",
   "mimetype": "text/x-python",
   "name": "python",
   "nbconvert_exporter": "python",
   "pygments_lexer": "ipython3",
   "version": "3.6.4"
  }
 },
 "nbformat": 4,
 "nbformat_minor": 2
}
